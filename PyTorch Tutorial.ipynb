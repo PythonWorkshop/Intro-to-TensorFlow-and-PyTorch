{
 "cells": [
  {
   "cell_type": "code",
   "execution_count": 8,
   "metadata": {
    "collapsed": true
   },
   "outputs": [],
   "source": [
    "import pandas as pd\n",
    "import numpy as np"
   ]
  },
  {
   "cell_type": "code",
   "execution_count": 9,
   "metadata": {
    "collapsed": false
   },
   "outputs": [],
   "source": [
    "df = pd.read_csv('Data/winequality-red-cleaned.csv', sep=',')"
   ]
  },
  {
   "cell_type": "code",
   "execution_count": 10,
   "metadata": {
    "collapsed": false
   },
   "outputs": [
    {
     "data": {
      "text/html": [
       "<div>\n",
       "<table border=\"1\" class=\"dataframe\">\n",
       "  <thead>\n",
       "    <tr style=\"text-align: right;\">\n",
       "      <th></th>\n",
       "      <th>volatile acidity</th>\n",
       "      <th>residual sugar</th>\n",
       "      <th>chlorides</th>\n",
       "      <th>total sulfur dioxide</th>\n",
       "      <th>pH</th>\n",
       "      <th>sulphates</th>\n",
       "      <th>alcohol</th>\n",
       "      <th>quality</th>\n",
       "      <th>category</th>\n",
       "    </tr>\n",
       "  </thead>\n",
       "  <tbody>\n",
       "    <tr>\n",
       "      <th>0</th>\n",
       "      <td>0.961877</td>\n",
       "      <td>-0.453218</td>\n",
       "      <td>-0.243707</td>\n",
       "      <td>-0.379133</td>\n",
       "      <td>1.288643</td>\n",
       "      <td>-0.579207</td>\n",
       "      <td>-0.960246</td>\n",
       "      <td>5</td>\n",
       "      <td>Bad</td>\n",
       "    </tr>\n",
       "    <tr>\n",
       "      <th>1</th>\n",
       "      <td>1.967442</td>\n",
       "      <td>0.043416</td>\n",
       "      <td>0.223875</td>\n",
       "      <td>0.624363</td>\n",
       "      <td>-0.719933</td>\n",
       "      <td>0.128950</td>\n",
       "      <td>-0.584777</td>\n",
       "      <td>5</td>\n",
       "      <td>Bad</td>\n",
       "    </tr>\n",
       "    <tr>\n",
       "      <th>2</th>\n",
       "      <td>1.297065</td>\n",
       "      <td>-0.169427</td>\n",
       "      <td>0.096353</td>\n",
       "      <td>0.229047</td>\n",
       "      <td>-0.331177</td>\n",
       "      <td>-0.048089</td>\n",
       "      <td>-0.584777</td>\n",
       "      <td>5</td>\n",
       "      <td>Bad</td>\n",
       "    </tr>\n",
       "    <tr>\n",
       "      <th>3</th>\n",
       "      <td>-1.384443</td>\n",
       "      <td>-0.453218</td>\n",
       "      <td>-0.264960</td>\n",
       "      <td>0.411500</td>\n",
       "      <td>-0.979104</td>\n",
       "      <td>-0.461180</td>\n",
       "      <td>-0.584777</td>\n",
       "      <td>6</td>\n",
       "      <td>Good</td>\n",
       "    </tr>\n",
       "    <tr>\n",
       "      <th>4</th>\n",
       "      <td>0.961877</td>\n",
       "      <td>-0.453218</td>\n",
       "      <td>-0.243707</td>\n",
       "      <td>-0.379133</td>\n",
       "      <td>1.288643</td>\n",
       "      <td>-0.579207</td>\n",
       "      <td>-0.960246</td>\n",
       "      <td>5</td>\n",
       "      <td>Bad</td>\n",
       "    </tr>\n",
       "  </tbody>\n",
       "</table>\n",
       "</div>"
      ],
      "text/plain": [
       "   volatile acidity  residual sugar  chlorides  total sulfur dioxide  \\\n",
       "0          0.961877       -0.453218  -0.243707             -0.379133   \n",
       "1          1.967442        0.043416   0.223875              0.624363   \n",
       "2          1.297065       -0.169427   0.096353              0.229047   \n",
       "3         -1.384443       -0.453218  -0.264960              0.411500   \n",
       "4          0.961877       -0.453218  -0.243707             -0.379133   \n",
       "\n",
       "         pH  sulphates   alcohol  quality category  \n",
       "0  1.288643  -0.579207 -0.960246        5      Bad  \n",
       "1 -0.719933   0.128950 -0.584777        5      Bad  \n",
       "2 -0.331177  -0.048089 -0.584777        5      Bad  \n",
       "3 -0.979104  -0.461180 -0.584777        6     Good  \n",
       "4  1.288643  -0.579207 -0.960246        5      Bad  "
      ]
     },
     "execution_count": 10,
     "metadata": {},
     "output_type": "execute_result"
    }
   ],
   "source": [
    "df.head()"
   ]
  },
  {
   "cell_type": "code",
   "execution_count": 11,
   "metadata": {
    "collapsed": false
   },
   "outputs": [
    {
     "data": {
      "text/plain": [
       "[1.0, 1.0, 1.0, 0.0, 1.0]"
      ]
     },
     "execution_count": 11,
     "metadata": {},
     "output_type": "execute_result"
    }
   ],
   "source": [
    "y = pd.DataFrame([0. if item == 'Good' else 1. for item in df['category']])\n",
    "y = [0. if item == 'Good' else 1. for item in df['category']]\n",
    "y[:5]"
   ]
  },
  {
   "cell_type": "code",
   "execution_count": 12,
   "metadata": {
    "collapsed": false
   },
   "outputs": [],
   "source": [
    "features_df = df.drop(['quality', 'category'], axis=1)"
   ]
  },
  {
   "cell_type": "code",
   "execution_count": 13,
   "metadata": {
    "collapsed": false
   },
   "outputs": [
    {
     "data": {
      "text/html": [
       "<div>\n",
       "<table border=\"1\" class=\"dataframe\">\n",
       "  <thead>\n",
       "    <tr style=\"text-align: right;\">\n",
       "      <th></th>\n",
       "      <th>volatile acidity</th>\n",
       "      <th>residual sugar</th>\n",
       "      <th>chlorides</th>\n",
       "      <th>total sulfur dioxide</th>\n",
       "      <th>pH</th>\n",
       "      <th>sulphates</th>\n",
       "      <th>alcohol</th>\n",
       "    </tr>\n",
       "  </thead>\n",
       "  <tbody>\n",
       "    <tr>\n",
       "      <th>0</th>\n",
       "      <td>0.961877</td>\n",
       "      <td>-0.453218</td>\n",
       "      <td>-0.243707</td>\n",
       "      <td>-0.379133</td>\n",
       "      <td>1.288643</td>\n",
       "      <td>-0.579207</td>\n",
       "      <td>-0.960246</td>\n",
       "    </tr>\n",
       "    <tr>\n",
       "      <th>1</th>\n",
       "      <td>1.967442</td>\n",
       "      <td>0.043416</td>\n",
       "      <td>0.223875</td>\n",
       "      <td>0.624363</td>\n",
       "      <td>-0.719933</td>\n",
       "      <td>0.128950</td>\n",
       "      <td>-0.584777</td>\n",
       "    </tr>\n",
       "    <tr>\n",
       "      <th>2</th>\n",
       "      <td>1.297065</td>\n",
       "      <td>-0.169427</td>\n",
       "      <td>0.096353</td>\n",
       "      <td>0.229047</td>\n",
       "      <td>-0.331177</td>\n",
       "      <td>-0.048089</td>\n",
       "      <td>-0.584777</td>\n",
       "    </tr>\n",
       "    <tr>\n",
       "      <th>3</th>\n",
       "      <td>-1.384443</td>\n",
       "      <td>-0.453218</td>\n",
       "      <td>-0.264960</td>\n",
       "      <td>0.411500</td>\n",
       "      <td>-0.979104</td>\n",
       "      <td>-0.461180</td>\n",
       "      <td>-0.584777</td>\n",
       "    </tr>\n",
       "    <tr>\n",
       "      <th>4</th>\n",
       "      <td>0.961877</td>\n",
       "      <td>-0.453218</td>\n",
       "      <td>-0.243707</td>\n",
       "      <td>-0.379133</td>\n",
       "      <td>1.288643</td>\n",
       "      <td>-0.579207</td>\n",
       "      <td>-0.960246</td>\n",
       "    </tr>\n",
       "  </tbody>\n",
       "</table>\n",
       "</div>"
      ],
      "text/plain": [
       "   volatile acidity  residual sugar  chlorides  total sulfur dioxide  \\\n",
       "0          0.961877       -0.453218  -0.243707             -0.379133   \n",
       "1          1.967442        0.043416   0.223875              0.624363   \n",
       "2          1.297065       -0.169427   0.096353              0.229047   \n",
       "3         -1.384443       -0.453218  -0.264960              0.411500   \n",
       "4          0.961877       -0.453218  -0.243707             -0.379133   \n",
       "\n",
       "         pH  sulphates   alcohol  \n",
       "0  1.288643  -0.579207 -0.960246  \n",
       "1 -0.719933   0.128950 -0.584777  \n",
       "2 -0.331177  -0.048089 -0.584777  \n",
       "3 -0.979104  -0.461180 -0.584777  \n",
       "4  1.288643  -0.579207 -0.960246  "
      ]
     },
     "execution_count": 13,
     "metadata": {},
     "output_type": "execute_result"
    }
   ],
   "source": [
    "features_df.head()"
   ]
  },
  {
   "cell_type": "code",
   "execution_count": 14,
   "metadata": {
    "collapsed": true
   },
   "outputs": [],
   "source": [
    "import torch"
   ]
  },
  {
   "cell_type": "code",
   "execution_count": 15,
   "metadata": {
    "collapsed": false
   },
   "outputs": [],
   "source": [
    "# x = torch.from_numpy(features_df.as_matrix())"
   ]
  },
  {
   "cell_type": "code",
   "execution_count": 16,
   "metadata": {
    "collapsed": false
   },
   "outputs": [],
   "source": [
    "# y = torch.from_numpy(np.array(y))"
   ]
  },
  {
   "cell_type": "code",
   "execution_count": 17,
   "metadata": {
    "collapsed": false
   },
   "outputs": [
    {
     "name": "stderr",
     "output_type": "stream",
     "text": [
      "/Users/kendall/Dropbox/Current_Projects/python/pytorch_tutorial/.direnv/python-3.5.2/lib/python3.5/site-packages/sklearn/cross_validation.py:44: DeprecationWarning: This module was deprecated in version 0.18 in favor of the model_selection module into which all the refactored classes and functions are moved. Also note that the interface of the new CV iterators are different from that of this module. This module will be removed in 0.20.\n",
      "  \"This module will be removed in 0.20.\", DeprecationWarning)\n"
     ]
    }
   ],
   "source": [
    "# TODO: pip install sklearn\n",
    "from sklearn.cross_validation import train_test_split\n",
    "X_train, X_test, y_train, y_test = train_test_split(features_df, y, test_size=0.2, random_state=42)\n",
    "# X_train = features_df\n",
    "# y_train = np.array(y)"
   ]
  },
  {
   "cell_type": "code",
   "execution_count": 33,
   "metadata": {
    "collapsed": false
   },
   "outputs": [],
   "source": [
    "import torch.nn as nn\n",
    "import torch.nn.functional as F\n",
    "from torch.nn.modules.activation import Softmax\n",
    "\n",
    "class Net(nn.Module):\n",
    "    def __init__(self):\n",
    "        super(Net, self).__init__()\n",
    "        self.fc1 = nn.Linear(7, 2)\n",
    "\n",
    "    def forward(self, x):\n",
    "        x = F.softmax(self.fc1(x))\n",
    "        return x\n",
    "    \n",
    "    def num_flat_features(self, x):\n",
    "        size = x.size()[1:] # all dimensions except the batch dimension\n",
    "        num_features = 1\n",
    "        for s in size:\n",
    "            num_features *= s\n",
    "        return num_features\n",
    "\n",
    "\n",
    "net = Net()"
   ]
  },
  {
   "cell_type": "code",
   "execution_count": 39,
   "metadata": {
    "collapsed": false
   },
   "outputs": [],
   "source": [
    "learning_rate = 0.05\n",
    "batch_size = 200\n",
    "epochs = 1000\n",
    "epochs_to_print = epochs / 10"
   ]
  },
  {
   "cell_type": "code",
   "execution_count": 35,
   "metadata": {
    "collapsed": false
   },
   "outputs": [],
   "source": [
    "import torch.optim as optim\n",
    "\n",
    "criterion = nn.CrossEntropyLoss() # use a Classification Cross-Entropy loss\n",
    "optimizer = optim.SGD(net.parameters(), lr=learning_rate, momentum=0.9)"
   ]
  },
  {
   "cell_type": "code",
   "execution_count": 58,
   "metadata": {
    "collapsed": false
   },
   "outputs": [
    {
     "name": "stdout",
     "output_type": "stream",
     "text": [
      "0.6424751281738281\n",
      "1 loss: 0.000, accuracy: 0.728\n",
      "0.628253698348999\n",
      "1 loss: 0.000, accuracy: 0.728\n",
      "0.641298234462738\n",
      "1 loss: 0.000, accuracy: 0.734\n",
      "0.6064736843109131\n",
      "1 loss: 0.000, accuracy: 0.738\n",
      "0.6074028015136719\n",
      "1 loss: 0.000, accuracy: 0.738\n",
      "0.5785908699035645\n",
      "1 loss: 0.000, accuracy: 0.734\n",
      "0.597084105014801\n",
      "101 loss: 0.000, accuracy: 0.741\n",
      "0.5555587410926819\n",
      "101 loss: 0.000, accuracy: 0.741\n",
      "0.6128346920013428\n",
      "101 loss: 0.000, accuracy: 0.741\n",
      "0.5328510999679565\n",
      "101 loss: 0.000, accuracy: 0.741\n",
      "0.5667860507965088\n",
      "101 loss: 0.000, accuracy: 0.741\n",
      "0.48340311646461487\n",
      "101 loss: 0.000, accuracy: 0.741\n",
      "0.5963595509529114\n",
      "201 loss: 0.000, accuracy: 0.741\n",
      "0.5549209117889404\n",
      "201 loss: 0.000, accuracy: 0.741\n",
      "0.6137063503265381\n",
      "201 loss: 0.000, accuracy: 0.741\n",
      "0.5336371064186096\n",
      "201 loss: 0.000, accuracy: 0.741\n",
      "0.5666817426681519\n",
      "201 loss: 0.000, accuracy: 0.741\n",
      "0.48055553436279297\n",
      "201 loss: 0.000, accuracy: 0.741\n",
      "0.5960546135902405\n",
      "301 loss: 0.000, accuracy: 0.738\n",
      "0.5547058582305908\n",
      "301 loss: 0.000, accuracy: 0.738\n",
      "0.6142030954360962\n",
      "301 loss: 0.000, accuracy: 0.738\n",
      "0.5341231226921082\n",
      "301 loss: 0.000, accuracy: 0.738\n",
      "0.5665417313575745\n",
      "301 loss: 0.000, accuracy: 0.738\n",
      "0.47952374815940857\n",
      "301 loss: 0.000, accuracy: 0.738\n",
      "0.5958707928657532\n",
      "401 loss: 0.000, accuracy: 0.738\n",
      "0.5546108484268188\n",
      "401 loss: 0.000, accuracy: 0.738\n",
      "0.6144918203353882\n",
      "401 loss: 0.000, accuracy: 0.738\n",
      "0.5344395637512207\n",
      "401 loss: 0.000, accuracy: 0.738\n",
      "0.5664505958557129\n",
      "401 loss: 0.000, accuracy: 0.738\n",
      "0.4790114462375641\n",
      "401 loss: 0.000, accuracy: 0.738\n",
      "0.5957475900650024\n",
      "501 loss: 0.000, accuracy: 0.741\n",
      "0.5545623302459717\n",
      "501 loss: 0.000, accuracy: 0.741\n",
      "0.614676833152771\n",
      "501 loss: 0.000, accuracy: 0.741\n",
      "0.5346590280532837\n",
      "501 loss: 0.000, accuracy: 0.741\n",
      "0.5663894414901733\n",
      "501 loss: 0.000, accuracy: 0.741\n",
      "0.4787118136882782\n",
      "501 loss: 0.000, accuracy: 0.741\n",
      "0.5956612229347229\n",
      "601 loss: 0.000, accuracy: 0.741\n",
      "0.5545341372489929\n",
      "601 loss: 0.000, accuracy: 0.741\n",
      "0.6148033738136292\n",
      "601 loss: 0.000, accuracy: 0.741\n",
      "0.534817099571228\n",
      "601 loss: 0.000, accuracy: 0.741\n",
      "0.5663463473320007\n",
      "601 loss: 0.000, accuracy: 0.741\n",
      "0.47851940989494324\n",
      "601 loss: 0.000, accuracy: 0.741\n",
      "0.5955988168716431\n",
      "701 loss: 0.000, accuracy: 0.741\n",
      "0.5545172691345215\n",
      "701 loss: 0.000, accuracy: 0.741\n",
      "0.6148936748504639\n",
      "701 loss: 0.000, accuracy: 0.741\n",
      "0.5349339246749878\n",
      "701 loss: 0.000, accuracy: 0.741\n",
      "0.5663144588470459\n",
      "701 loss: 0.000, accuracy: 0.741\n",
      "0.47838854789733887\n",
      "701 loss: 0.000, accuracy: 0.741\n",
      "0.5955526232719421\n",
      "801 loss: 0.000, accuracy: 0.741\n",
      "0.5545063614845276\n",
      "801 loss: 0.000, accuracy: 0.741\n",
      "0.6149596571922302\n",
      "801 loss: 0.000, accuracy: 0.741\n",
      "0.5350214242935181\n",
      "801 loss: 0.000, accuracy: 0.741\n",
      "0.566291093826294\n",
      "801 loss: 0.000, accuracy: 0.741\n",
      "0.4782959222793579\n",
      "801 loss: 0.000, accuracy: 0.741\n",
      "0.5955178737640381\n",
      "901 loss: 0.000, accuracy: 0.741\n",
      "0.554499089717865\n",
      "901 loss: 0.000, accuracy: 0.741\n",
      "0.6150091290473938\n",
      "901 loss: 0.000, accuracy: 0.741\n",
      "0.5350879430770874\n",
      "901 loss: 0.000, accuracy: 0.741\n",
      "0.56627357006073\n",
      "901 loss: 0.000, accuracy: 0.741\n",
      "0.4782286584377289\n",
      "901 loss: 0.000, accuracy: 0.741\n",
      "Finished Training\n"
     ]
    }
   ],
   "source": [
    "from torch.autograd import Variable\n",
    "from sklearn.metrics import confusion_matrix, accuracy_score\n",
    "\n",
    "for epoch in range(epochs): # loop over the dataset multiple times\n",
    "    \n",
    "    running_loss = 0.0\n",
    "    for start, end in zip(range(0, len(X_train), batch_size), \n",
    "                          range(batch_size, len(X_train), batch_size)):\n",
    "        # get the inputs\n",
    "        \n",
    "        inputs = torch.from_numpy(X_train[start:end].as_matrix())\n",
    "        inputs = inputs.float()\n",
    "        labels = torch.Tensor(y_train[start:end])\n",
    "        labels = labels.long()\n",
    "\n",
    "        # wrap them in Variable\n",
    "        inputs, labels = Variable(inputs), Variable(labels)\n",
    "        \n",
    "        # zero the parameter gradients\n",
    "        optimizer.zero_grad()\n",
    "        \n",
    "        # forward + backward + optimize\n",
    "        outputs = net(inputs)\n",
    "        loss = criterion(outputs, labels)\n",
    "        loss.backward()        \n",
    "        optimizer.step()\n",
    "        \n",
    "        # print statistics\n",
    "        running_loss += loss.data[0]\n",
    "        if epoch % epochs_to_print == 0:\n",
    "            print(loss.data[0])\n",
    "            running_loss = 0.0\n",
    "            test_outputs = net(Variable(torch.from_numpy(X_test.as_matrix()).float()))\n",
    "            _, predicted = torch.max(test_outputs.data, 1)\n",
    "            accuracy = accuracy_score(y_test, predicted.numpy())\n",
    "            print('%d loss: %.3f, accuracy: %.3f' % (epoch+1, running_loss / epochs_to_print,\n",
    "                  accuracy))\n",
    "\n",
    "print('Finished Training')"
   ]
  },
  {
   "cell_type": "code",
   "execution_count": 63,
   "metadata": {
    "collapsed": false
   },
   "outputs": [],
   "source": [
    "from sklearn.metrics import confusion_matrix\n",
    "outputs = net(Variable(torch.from_numpy(X_test.as_matrix()).float()))\n",
    "_, predicted = torch.max(outputs.data, 1)\n",
    "confusion = confusion_matrix(y_test, predicted.numpy())\n",
    "accuracy = accuracy_score(y_test, predicted.numpy())\n"
   ]
  },
  {
   "cell_type": "code",
   "execution_count": 64,
   "metadata": {
    "collapsed": false
   },
   "outputs": [
    {
     "data": {
      "text/plain": [
       "array([[135,  44],\n",
       "       [ 39, 102]])"
      ]
     },
     "execution_count": 64,
     "metadata": {},
     "output_type": "execute_result"
    }
   ],
   "source": [
    "confusion"
   ]
  },
  {
   "cell_type": "code",
   "execution_count": 65,
   "metadata": {
    "collapsed": false
   },
   "outputs": [
    {
     "data": {
      "text/plain": [
       "0.74062499999999998"
      ]
     },
     "execution_count": 65,
     "metadata": {},
     "output_type": "execute_result"
    }
   ],
   "source": [
    "accuracy"
   ]
  },
  {
   "cell_type": "code",
   "execution_count": null,
   "metadata": {
    "collapsed": true
   },
   "outputs": [],
   "source": []
  },
  {
   "cell_type": "code",
   "execution_count": null,
   "metadata": {
    "collapsed": true
   },
   "outputs": [],
   "source": []
  },
  {
   "cell_type": "code",
   "execution_count": null,
   "metadata": {
    "collapsed": true
   },
   "outputs": [],
   "source": []
  }
 ],
 "metadata": {
  "kernelspec": {
   "display_name": "Python 3",
   "language": "python",
   "name": "python3"
  },
  "language_info": {
   "codemirror_mode": {
    "name": "ipython",
    "version": 3
   },
   "file_extension": ".py",
   "mimetype": "text/x-python",
   "name": "python",
   "nbconvert_exporter": "python",
   "pygments_lexer": "ipython3",
   "version": "3.5.2"
  }
 },
 "nbformat": 4,
 "nbformat_minor": 2
}
