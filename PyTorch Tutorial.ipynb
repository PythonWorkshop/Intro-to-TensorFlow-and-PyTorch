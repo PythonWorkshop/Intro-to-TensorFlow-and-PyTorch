{
 "cells": [
  {
   "cell_type": "code",
   "execution_count": 1,
   "metadata": {
    "collapsed": true
   },
   "outputs": [],
   "source": [
    "import pandas as pd\n",
    "import numpy as np"
   ]
  },
  {
   "cell_type": "code",
   "execution_count": 2,
   "metadata": {
    "collapsed": false
   },
   "outputs": [],
   "source": [
    "df = pd.read_csv('Data/winequality-red-cleaned.csv', sep=',')"
   ]
  },
  {
   "cell_type": "code",
   "execution_count": 3,
   "metadata": {
    "collapsed": false
   },
   "outputs": [
    {
     "data": {
      "text/html": [
       "<div>\n",
       "<table border=\"1\" class=\"dataframe\">\n",
       "  <thead>\n",
       "    <tr style=\"text-align: right;\">\n",
       "      <th></th>\n",
       "      <th>volatile acidity</th>\n",
       "      <th>residual sugar</th>\n",
       "      <th>chlorides</th>\n",
       "      <th>total sulfur dioxide</th>\n",
       "      <th>pH</th>\n",
       "      <th>sulphates</th>\n",
       "      <th>alcohol</th>\n",
       "      <th>quality</th>\n",
       "      <th>category</th>\n",
       "    </tr>\n",
       "  </thead>\n",
       "  <tbody>\n",
       "    <tr>\n",
       "      <th>0</th>\n",
       "      <td>0.961877</td>\n",
       "      <td>-0.453218</td>\n",
       "      <td>-0.243707</td>\n",
       "      <td>-0.379133</td>\n",
       "      <td>1.288643</td>\n",
       "      <td>-0.579207</td>\n",
       "      <td>-0.960246</td>\n",
       "      <td>5</td>\n",
       "      <td>Bad</td>\n",
       "    </tr>\n",
       "    <tr>\n",
       "      <th>1</th>\n",
       "      <td>1.967442</td>\n",
       "      <td>0.043416</td>\n",
       "      <td>0.223875</td>\n",
       "      <td>0.624363</td>\n",
       "      <td>-0.719933</td>\n",
       "      <td>0.128950</td>\n",
       "      <td>-0.584777</td>\n",
       "      <td>5</td>\n",
       "      <td>Bad</td>\n",
       "    </tr>\n",
       "    <tr>\n",
       "      <th>2</th>\n",
       "      <td>1.297065</td>\n",
       "      <td>-0.169427</td>\n",
       "      <td>0.096353</td>\n",
       "      <td>0.229047</td>\n",
       "      <td>-0.331177</td>\n",
       "      <td>-0.048089</td>\n",
       "      <td>-0.584777</td>\n",
       "      <td>5</td>\n",
       "      <td>Bad</td>\n",
       "    </tr>\n",
       "    <tr>\n",
       "      <th>3</th>\n",
       "      <td>-1.384443</td>\n",
       "      <td>-0.453218</td>\n",
       "      <td>-0.264960</td>\n",
       "      <td>0.411500</td>\n",
       "      <td>-0.979104</td>\n",
       "      <td>-0.461180</td>\n",
       "      <td>-0.584777</td>\n",
       "      <td>6</td>\n",
       "      <td>Good</td>\n",
       "    </tr>\n",
       "    <tr>\n",
       "      <th>4</th>\n",
       "      <td>0.961877</td>\n",
       "      <td>-0.453218</td>\n",
       "      <td>-0.243707</td>\n",
       "      <td>-0.379133</td>\n",
       "      <td>1.288643</td>\n",
       "      <td>-0.579207</td>\n",
       "      <td>-0.960246</td>\n",
       "      <td>5</td>\n",
       "      <td>Bad</td>\n",
       "    </tr>\n",
       "  </tbody>\n",
       "</table>\n",
       "</div>"
      ],
      "text/plain": [
       "   volatile acidity  residual sugar  chlorides  total sulfur dioxide  \\\n",
       "0          0.961877       -0.453218  -0.243707             -0.379133   \n",
       "1          1.967442        0.043416   0.223875              0.624363   \n",
       "2          1.297065       -0.169427   0.096353              0.229047   \n",
       "3         -1.384443       -0.453218  -0.264960              0.411500   \n",
       "4          0.961877       -0.453218  -0.243707             -0.379133   \n",
       "\n",
       "         pH  sulphates   alcohol  quality category  \n",
       "0  1.288643  -0.579207 -0.960246        5      Bad  \n",
       "1 -0.719933   0.128950 -0.584777        5      Bad  \n",
       "2 -0.331177  -0.048089 -0.584777        5      Bad  \n",
       "3 -0.979104  -0.461180 -0.584777        6     Good  \n",
       "4  1.288643  -0.579207 -0.960246        5      Bad  "
      ]
     },
     "execution_count": 3,
     "metadata": {},
     "output_type": "execute_result"
    }
   ],
   "source": [
    "df.head()"
   ]
  },
  {
   "cell_type": "code",
   "execution_count": 4,
   "metadata": {
    "collapsed": false
   },
   "outputs": [
    {
     "data": {
      "text/plain": [
       "[1.0, 1.0, 1.0, 0.0, 1.0]"
      ]
     },
     "execution_count": 4,
     "metadata": {},
     "output_type": "execute_result"
    }
   ],
   "source": [
    "y = pd.DataFrame([0. if item == 'Good' else 1. for item in df['category']])\n",
    "y = [0. if item == 'Good' else 1. for item in df['category']]\n",
    "y[:5]"
   ]
  },
  {
   "cell_type": "code",
   "execution_count": 5,
   "metadata": {
    "collapsed": false
   },
   "outputs": [],
   "source": [
    "features_df = df.drop(['quality', 'category'], axis=1)"
   ]
  },
  {
   "cell_type": "code",
   "execution_count": 6,
   "metadata": {
    "collapsed": false
   },
   "outputs": [
    {
     "data": {
      "text/html": [
       "<div>\n",
       "<table border=\"1\" class=\"dataframe\">\n",
       "  <thead>\n",
       "    <tr style=\"text-align: right;\">\n",
       "      <th></th>\n",
       "      <th>volatile acidity</th>\n",
       "      <th>residual sugar</th>\n",
       "      <th>chlorides</th>\n",
       "      <th>total sulfur dioxide</th>\n",
       "      <th>pH</th>\n",
       "      <th>sulphates</th>\n",
       "      <th>alcohol</th>\n",
       "    </tr>\n",
       "  </thead>\n",
       "  <tbody>\n",
       "    <tr>\n",
       "      <th>0</th>\n",
       "      <td>0.961877</td>\n",
       "      <td>-0.453218</td>\n",
       "      <td>-0.243707</td>\n",
       "      <td>-0.379133</td>\n",
       "      <td>1.288643</td>\n",
       "      <td>-0.579207</td>\n",
       "      <td>-0.960246</td>\n",
       "    </tr>\n",
       "    <tr>\n",
       "      <th>1</th>\n",
       "      <td>1.967442</td>\n",
       "      <td>0.043416</td>\n",
       "      <td>0.223875</td>\n",
       "      <td>0.624363</td>\n",
       "      <td>-0.719933</td>\n",
       "      <td>0.128950</td>\n",
       "      <td>-0.584777</td>\n",
       "    </tr>\n",
       "    <tr>\n",
       "      <th>2</th>\n",
       "      <td>1.297065</td>\n",
       "      <td>-0.169427</td>\n",
       "      <td>0.096353</td>\n",
       "      <td>0.229047</td>\n",
       "      <td>-0.331177</td>\n",
       "      <td>-0.048089</td>\n",
       "      <td>-0.584777</td>\n",
       "    </tr>\n",
       "    <tr>\n",
       "      <th>3</th>\n",
       "      <td>-1.384443</td>\n",
       "      <td>-0.453218</td>\n",
       "      <td>-0.264960</td>\n",
       "      <td>0.411500</td>\n",
       "      <td>-0.979104</td>\n",
       "      <td>-0.461180</td>\n",
       "      <td>-0.584777</td>\n",
       "    </tr>\n",
       "    <tr>\n",
       "      <th>4</th>\n",
       "      <td>0.961877</td>\n",
       "      <td>-0.453218</td>\n",
       "      <td>-0.243707</td>\n",
       "      <td>-0.379133</td>\n",
       "      <td>1.288643</td>\n",
       "      <td>-0.579207</td>\n",
       "      <td>-0.960246</td>\n",
       "    </tr>\n",
       "  </tbody>\n",
       "</table>\n",
       "</div>"
      ],
      "text/plain": [
       "   volatile acidity  residual sugar  chlorides  total sulfur dioxide  \\\n",
       "0          0.961877       -0.453218  -0.243707             -0.379133   \n",
       "1          1.967442        0.043416   0.223875              0.624363   \n",
       "2          1.297065       -0.169427   0.096353              0.229047   \n",
       "3         -1.384443       -0.453218  -0.264960              0.411500   \n",
       "4          0.961877       -0.453218  -0.243707             -0.379133   \n",
       "\n",
       "         pH  sulphates   alcohol  \n",
       "0  1.288643  -0.579207 -0.960246  \n",
       "1 -0.719933   0.128950 -0.584777  \n",
       "2 -0.331177  -0.048089 -0.584777  \n",
       "3 -0.979104  -0.461180 -0.584777  \n",
       "4  1.288643  -0.579207 -0.960246  "
      ]
     },
     "execution_count": 6,
     "metadata": {},
     "output_type": "execute_result"
    }
   ],
   "source": [
    "features_df.head()"
   ]
  },
  {
   "cell_type": "code",
   "execution_count": 7,
   "metadata": {
    "collapsed": true
   },
   "outputs": [],
   "source": [
    "import torch"
   ]
  },
  {
   "cell_type": "code",
   "execution_count": 8,
   "metadata": {
    "collapsed": false
   },
   "outputs": [
    {
     "name": "stderr",
     "output_type": "stream",
     "text": [
      "/Users/kendall/Dropbox/Current_Projects/python/pytorch_tutorial/.direnv/python-3.5.2/lib/python3.5/site-packages/sklearn/cross_validation.py:44: DeprecationWarning: This module was deprecated in version 0.18 in favor of the model_selection module into which all the refactored classes and functions are moved. Also note that the interface of the new CV iterators are different from that of this module. This module will be removed in 0.20.\n",
      "  \"This module will be removed in 0.20.\", DeprecationWarning)\n"
     ]
    }
   ],
   "source": [
    "# TODO: pip install sklearn\n",
    "from sklearn.cross_validation import train_test_split\n",
    "X_train, X_test, y_train, y_test = train_test_split(features_df, y, test_size=0.2, random_state=42)\n",
    "# X_train = features_df\n",
    "# y_train = np.array(y)"
   ]
  },
  {
   "cell_type": "code",
   "execution_count": 9,
   "metadata": {
    "collapsed": true
   },
   "outputs": [],
   "source": [
    "import torch.nn as nn\n",
    "import torch.nn.functional as F\n",
    "from torch.nn.modules.activation import Softmax\n"
   ]
  },
  {
   "cell_type": "code",
   "execution_count": 24,
   "metadata": {
    "collapsed": true
   },
   "outputs": [],
   "source": [
    "learning_rate = 0.05"
   ]
  },
  {
   "cell_type": "code",
   "execution_count": 25,
   "metadata": {
    "collapsed": false
   },
   "outputs": [],
   "source": [
    "class SingleLayerNet(nn.Module):\n",
    "    def __init__(self):\n",
    "        super(SingleLayerNet, self).__init__()\n",
    "        self.fc1 = nn.Linear(7, 2)\n",
    "\n",
    "    def forward(self, x):\n",
    "        x = F.softmax(self.fc1(x))\n",
    "        return x\n",
    "    \n",
    "    def num_flat_features(self, x):\n",
    "        size = x.size()[1:] # all dimensions except the batch dimension\n",
    "        num_features = 1\n",
    "        for s in size:\n",
    "            num_features *= s\n",
    "        return num_features\n",
    "\n",
    "net0 = SingleLayerNet()\n",
    "optimizer0 = optim.SGD(net0.parameters(), lr=learning_rate, momentum=0.9)"
   ]
  },
  {
   "cell_type": "code",
   "execution_count": 26,
   "metadata": {
    "collapsed": true
   },
   "outputs": [],
   "source": [
    "class DoubleLayerNet(nn.Module):\n",
    "    def __init__(self):\n",
    "        super(DoubleLayerNet, self).__init__()\n",
    "        self.fc1 = nn.Linear(7, 7)\n",
    "        self.fc2 = nn.Linear(7, 2)\n",
    "\n",
    "    def forward(self, x):\n",
    "        x = self.fc1(x)\n",
    "        x = F.softmax(self.fc2(x))\n",
    "        return x\n",
    "    \n",
    "    def num_flat_features(self, x):\n",
    "        size = x.size()[1:] # all dimensions except the batch dimension\n",
    "        num_features = 1\n",
    "        for s in size:\n",
    "            num_features *= s\n",
    "        return num_features\n",
    "\n",
    "net1 = DoubleLayerNet()\n",
    "optimizer1 = optim.SGD(net1.parameters(), lr=learning_rate, momentum=0.9)"
   ]
  },
  {
   "cell_type": "code",
   "execution_count": 27,
   "metadata": {
    "collapsed": false
   },
   "outputs": [],
   "source": [
    "batch_size = 200\n",
    "epochs = 100\n",
    "epochs_to_print = 10"
   ]
  },
  {
   "cell_type": "code",
   "execution_count": 28,
   "metadata": {
    "collapsed": false
   },
   "outputs": [],
   "source": [
    "import torch.optim as optim\n",
    "\n",
    "criterion = nn.CrossEntropyLoss() # use a Classification Cross-Entropy loss"
   ]
  },
  {
   "cell_type": "code",
   "execution_count": 29,
   "metadata": {
    "collapsed": true
   },
   "outputs": [],
   "source": [
    "from torch.autograd import Variable\n",
    "from sklearn.metrics import confusion_matrix, accuracy_score"
   ]
  },
  {
   "cell_type": "code",
   "execution_count": 30,
   "metadata": {
    "collapsed": false
   },
   "outputs": [],
   "source": [
    "def train_with_net(net, optimizer, criterion, batch_size, \n",
    "                   epochs, epochs_to_print):\n",
    "    for epoch in range(epochs): # loop over the dataset multiple times\n",
    "        \n",
    "        running_loss = 0.0\n",
    "        for start, end in zip(range(0, len(X_train), batch_size), \n",
    "                              range(batch_size, len(X_train), batch_size)):\n",
    "            # get the inputs\n",
    "            \n",
    "            inputs = torch.from_numpy(X_train[start:end].as_matrix())\n",
    "            inputs = inputs.float()\n",
    "            labels = torch.Tensor(y_train[start:end])\n",
    "            labels = labels.long()\n",
    "    \n",
    "            # wrap them in Variable\n",
    "            inputs = Variable(inputs)\n",
    "            labels = Variable(labels)\n",
    "            \n",
    "            # zero the parameter gradients\n",
    "            optimizer.zero_grad()\n",
    "            \n",
    "            # forward + backward + optimize\n",
    "            outputs = net(inputs)\n",
    "            loss = criterion(outputs, labels)\n",
    "            loss.backward()        \n",
    "            optimizer.step()\n",
    "            \n",
    "            # print statistics\n",
    "            running_loss += loss.data[0]\n",
    "\n",
    "            if epoch % epochs_to_print == epochs_to_print - 1:\n",
    "                print(loss.data[0])\n",
    "                test_outputs = net(Variable(torch.from_numpy(X_test.as_matrix()).float()))\n",
    "                _, predicted = torch.max(test_outputs.data, 1)\n",
    "                accuracy = accuracy_score(y_test, predicted.numpy())\n",
    "                print('%d loss: %.3f, accuracy: %.3f' % (epoch+1, running_loss / epochs_to_print,\n",
    "                      accuracy))\n",
    "                running_loss = 0.0\n",
    "\n",
    "    print('Finished Training')"
   ]
  },
  {
   "cell_type": "code",
   "execution_count": 32,
   "metadata": {
    "collapsed": false
   },
   "outputs": [
    {
     "name": "stdout",
     "output_type": "stream",
     "text": [
      "0.6865259408950806\n",
      "10 loss: 0.069, accuracy: 0.562\n",
      "0.6905931234359741\n",
      "10 loss: 0.069, accuracy: 0.562\n",
      "0.6835200786590576\n",
      "10 loss: 0.068, accuracy: 0.562\n",
      "0.6705790162086487\n",
      "10 loss: 0.067, accuracy: 0.562\n",
      "0.6823490858078003\n",
      "10 loss: 0.068, accuracy: 0.562\n",
      "0.6706100702285767\n",
      "10 loss: 0.067, accuracy: 0.562\n",
      "0.6865259408950806\n",
      "20 loss: 0.069, accuracy: 0.562\n",
      "0.6905931234359741\n",
      "20 loss: 0.069, accuracy: 0.562\n",
      "0.6835200786590576\n",
      "20 loss: 0.068, accuracy: 0.562\n",
      "0.6705790162086487\n",
      "20 loss: 0.067, accuracy: 0.562\n",
      "0.6823490858078003\n",
      "20 loss: 0.068, accuracy: 0.562\n",
      "0.6706100702285767\n",
      "20 loss: 0.067, accuracy: 0.562\n",
      "0.6865259408950806\n",
      "30 loss: 0.069, accuracy: 0.562\n",
      "0.6905931234359741\n",
      "30 loss: 0.069, accuracy: 0.562\n",
      "0.6835200786590576\n",
      "30 loss: 0.068, accuracy: 0.562\n",
      "0.6705790162086487\n",
      "30 loss: 0.067, accuracy: 0.562\n",
      "0.6823490858078003\n",
      "30 loss: 0.068, accuracy: 0.562\n",
      "0.6706100702285767\n",
      "30 loss: 0.067, accuracy: 0.562\n",
      "0.6865259408950806\n",
      "40 loss: 0.069, accuracy: 0.562\n",
      "0.6905931234359741\n",
      "40 loss: 0.069, accuracy: 0.562\n",
      "0.6835200786590576\n",
      "40 loss: 0.068, accuracy: 0.562\n",
      "0.6705790162086487\n",
      "40 loss: 0.067, accuracy: 0.562\n",
      "0.6823490858078003\n",
      "40 loss: 0.068, accuracy: 0.562\n",
      "0.6706100702285767\n",
      "40 loss: 0.067, accuracy: 0.562\n",
      "0.6865259408950806\n",
      "50 loss: 0.069, accuracy: 0.562\n",
      "0.6905931234359741\n",
      "50 loss: 0.069, accuracy: 0.562\n",
      "0.6835200786590576\n",
      "50 loss: 0.068, accuracy: 0.562\n",
      "0.6705790162086487\n",
      "50 loss: 0.067, accuracy: 0.562\n",
      "0.6823490858078003\n",
      "50 loss: 0.068, accuracy: 0.562\n",
      "0.6706100702285767\n",
      "50 loss: 0.067, accuracy: 0.562\n",
      "0.6865259408950806\n",
      "60 loss: 0.069, accuracy: 0.562\n",
      "0.6905931234359741\n",
      "60 loss: 0.069, accuracy: 0.562\n",
      "0.6835200786590576\n",
      "60 loss: 0.068, accuracy: 0.562\n",
      "0.6705790162086487\n",
      "60 loss: 0.067, accuracy: 0.562\n",
      "0.6823490858078003\n",
      "60 loss: 0.068, accuracy: 0.562\n",
      "0.6706100702285767\n",
      "60 loss: 0.067, accuracy: 0.562\n",
      "0.6865259408950806\n",
      "70 loss: 0.069, accuracy: 0.562\n",
      "0.6905931234359741\n",
      "70 loss: 0.069, accuracy: 0.562\n",
      "0.6835200786590576\n",
      "70 loss: 0.068, accuracy: 0.562\n",
      "0.6705790162086487\n",
      "70 loss: 0.067, accuracy: 0.562\n",
      "0.6823490858078003\n",
      "70 loss: 0.068, accuracy: 0.562\n",
      "0.6706100702285767\n",
      "70 loss: 0.067, accuracy: 0.562\n",
      "0.6865259408950806\n",
      "80 loss: 0.069, accuracy: 0.562\n",
      "0.6905931234359741\n",
      "80 loss: 0.069, accuracy: 0.562\n",
      "0.6835200786590576\n",
      "80 loss: 0.068, accuracy: 0.562\n",
      "0.6705790162086487\n",
      "80 loss: 0.067, accuracy: 0.562\n",
      "0.6823490858078003\n",
      "80 loss: 0.068, accuracy: 0.562\n",
      "0.6706100702285767\n",
      "80 loss: 0.067, accuracy: 0.562\n",
      "0.6865259408950806\n",
      "90 loss: 0.069, accuracy: 0.562\n",
      "0.6905931234359741\n",
      "90 loss: 0.069, accuracy: 0.562\n",
      "0.6835200786590576\n",
      "90 loss: 0.068, accuracy: 0.562\n",
      "0.6705790162086487\n",
      "90 loss: 0.067, accuracy: 0.562\n",
      "0.6823490858078003\n",
      "90 loss: 0.068, accuracy: 0.562\n",
      "0.6706100702285767\n",
      "90 loss: 0.067, accuracy: 0.562\n",
      "0.6865259408950806\n",
      "100 loss: 0.069, accuracy: 0.562\n",
      "0.6905931234359741\n",
      "100 loss: 0.069, accuracy: 0.562\n",
      "0.6835200786590576\n",
      "100 loss: 0.068, accuracy: 0.562\n",
      "0.6705790162086487\n",
      "100 loss: 0.067, accuracy: 0.562\n",
      "0.6823490858078003\n",
      "100 loss: 0.068, accuracy: 0.562\n",
      "0.6706100702285767\n",
      "100 loss: 0.067, accuracy: 0.562\n",
      "Finished Training\n"
     ]
    }
   ],
   "source": [
    "net0 = SingleLayerNet()\n",
    "net1 = DoubleLayerNet()\n",
    "\n",
    "train_with_net(net0, optimizer0, criterion, batch_size, epochs, epochs_to_print)"
   ]
  },
  {
   "cell_type": "code",
   "execution_count": 33,
   "metadata": {
    "collapsed": false
   },
   "outputs": [
    {
     "name": "stdout",
     "output_type": "stream",
     "text": [
      "0.6897417306900024\n",
      "10 loss: 0.069, accuracy: 0.547\n",
      "0.6874913573265076\n",
      "10 loss: 0.069, accuracy: 0.547\n",
      "0.6825845837593079\n",
      "10 loss: 0.068, accuracy: 0.547\n",
      "0.6925886273384094\n",
      "10 loss: 0.069, accuracy: 0.547\n",
      "0.696567177772522\n",
      "10 loss: 0.070, accuracy: 0.547\n",
      "0.6879830956459045\n",
      "10 loss: 0.069, accuracy: 0.547\n",
      "0.6897417306900024\n",
      "20 loss: 0.069, accuracy: 0.547\n",
      "0.6874913573265076\n",
      "20 loss: 0.069, accuracy: 0.547\n",
      "0.6825845837593079\n",
      "20 loss: 0.068, accuracy: 0.547\n",
      "0.6925886273384094\n",
      "20 loss: 0.069, accuracy: 0.547\n",
      "0.696567177772522\n",
      "20 loss: 0.070, accuracy: 0.547\n",
      "0.6879830956459045\n",
      "20 loss: 0.069, accuracy: 0.547\n",
      "0.6897417306900024\n",
      "30 loss: 0.069, accuracy: 0.547\n",
      "0.6874913573265076\n",
      "30 loss: 0.069, accuracy: 0.547\n",
      "0.6825845837593079\n",
      "30 loss: 0.068, accuracy: 0.547\n",
      "0.6925886273384094\n",
      "30 loss: 0.069, accuracy: 0.547\n",
      "0.696567177772522\n",
      "30 loss: 0.070, accuracy: 0.547\n",
      "0.6879830956459045\n",
      "30 loss: 0.069, accuracy: 0.547\n",
      "0.6897417306900024\n",
      "40 loss: 0.069, accuracy: 0.547\n",
      "0.6874913573265076\n",
      "40 loss: 0.069, accuracy: 0.547\n",
      "0.6825845837593079\n",
      "40 loss: 0.068, accuracy: 0.547\n",
      "0.6925886273384094\n",
      "40 loss: 0.069, accuracy: 0.547\n",
      "0.696567177772522\n",
      "40 loss: 0.070, accuracy: 0.547\n",
      "0.6879830956459045\n",
      "40 loss: 0.069, accuracy: 0.547\n",
      "0.6897417306900024\n",
      "50 loss: 0.069, accuracy: 0.547\n",
      "0.6874913573265076\n",
      "50 loss: 0.069, accuracy: 0.547\n",
      "0.6825845837593079\n",
      "50 loss: 0.068, accuracy: 0.547\n",
      "0.6925886273384094\n",
      "50 loss: 0.069, accuracy: 0.547\n",
      "0.696567177772522\n",
      "50 loss: 0.070, accuracy: 0.547\n",
      "0.6879830956459045\n",
      "50 loss: 0.069, accuracy: 0.547\n",
      "0.6897417306900024\n",
      "60 loss: 0.069, accuracy: 0.547\n",
      "0.6874913573265076\n",
      "60 loss: 0.069, accuracy: 0.547\n",
      "0.6825845837593079\n",
      "60 loss: 0.068, accuracy: 0.547\n",
      "0.6925886273384094\n",
      "60 loss: 0.069, accuracy: 0.547\n",
      "0.696567177772522\n",
      "60 loss: 0.070, accuracy: 0.547\n",
      "0.6879830956459045\n",
      "60 loss: 0.069, accuracy: 0.547\n",
      "0.6897417306900024\n",
      "70 loss: 0.069, accuracy: 0.547\n",
      "0.6874913573265076\n",
      "70 loss: 0.069, accuracy: 0.547\n",
      "0.6825845837593079\n",
      "70 loss: 0.068, accuracy: 0.547\n",
      "0.6925886273384094\n",
      "70 loss: 0.069, accuracy: 0.547\n",
      "0.696567177772522\n",
      "70 loss: 0.070, accuracy: 0.547\n",
      "0.6879830956459045\n",
      "70 loss: 0.069, accuracy: 0.547\n",
      "0.6897417306900024\n",
      "80 loss: 0.069, accuracy: 0.547\n",
      "0.6874913573265076\n",
      "80 loss: 0.069, accuracy: 0.547\n",
      "0.6825845837593079\n",
      "80 loss: 0.068, accuracy: 0.547\n",
      "0.6925886273384094\n",
      "80 loss: 0.069, accuracy: 0.547\n",
      "0.696567177772522\n",
      "80 loss: 0.070, accuracy: 0.547\n",
      "0.6879830956459045\n",
      "80 loss: 0.069, accuracy: 0.547\n",
      "0.6897417306900024\n",
      "90 loss: 0.069, accuracy: 0.547\n",
      "0.6874913573265076\n",
      "90 loss: 0.069, accuracy: 0.547\n",
      "0.6825845837593079\n",
      "90 loss: 0.068, accuracy: 0.547\n",
      "0.6925886273384094\n",
      "90 loss: 0.069, accuracy: 0.547\n",
      "0.696567177772522\n",
      "90 loss: 0.070, accuracy: 0.547\n",
      "0.6879830956459045\n",
      "90 loss: 0.069, accuracy: 0.547\n",
      "0.6897417306900024\n",
      "100 loss: 0.069, accuracy: 0.547\n",
      "0.6874913573265076\n",
      "100 loss: 0.069, accuracy: 0.547\n",
      "0.6825845837593079\n",
      "100 loss: 0.068, accuracy: 0.547\n",
      "0.6925886273384094\n",
      "100 loss: 0.069, accuracy: 0.547\n",
      "0.696567177772522\n",
      "100 loss: 0.070, accuracy: 0.547\n",
      "0.6879830956459045\n",
      "100 loss: 0.069, accuracy: 0.547\n",
      "Finished Training\n"
     ]
    }
   ],
   "source": [
    "train_with_net(net1, optimizer1, criterion, batch_size, epochs, epochs_to_print)"
   ]
  },
  {
   "cell_type": "code",
   "execution_count": null,
   "metadata": {
    "collapsed": false
   },
   "outputs": [],
   "source": [
    "from sklearn.metrics import confusion_matrix\n",
    "outputs = net0(Variable(torch.from_numpy(X_test.as_matrix()).float()))\n",
    "_, predicted = torch.max(outputs.data, 1)\n",
    "confusion = confusion_matrix(y_test, predicted.numpy())\n",
    "accuracy = accuracy_score(y_test, predicted.numpy())\n"
   ]
  },
  {
   "cell_type": "code",
   "execution_count": null,
   "metadata": {
    "collapsed": false
   },
   "outputs": [],
   "source": [
    "confusion"
   ]
  },
  {
   "cell_type": "code",
   "execution_count": null,
   "metadata": {
    "collapsed": false
   },
   "outputs": [],
   "source": [
    "accuracy"
   ]
  },
  {
   "cell_type": "code",
   "execution_count": null,
   "metadata": {
    "collapsed": true
   },
   "outputs": [],
   "source": []
  },
  {
   "cell_type": "code",
   "execution_count": null,
   "metadata": {
    "collapsed": true
   },
   "outputs": [],
   "source": []
  },
  {
   "cell_type": "code",
   "execution_count": null,
   "metadata": {
    "collapsed": true
   },
   "outputs": [],
   "source": []
  }
 ],
 "metadata": {
  "kernelspec": {
   "display_name": "Python 3",
   "language": "python",
   "name": "python3"
  },
  "language_info": {
   "codemirror_mode": {
    "name": "ipython",
    "version": 3
   },
   "file_extension": ".py",
   "mimetype": "text/x-python",
   "name": "python",
   "nbconvert_exporter": "python",
   "pygments_lexer": "ipython3",
   "version": "3.5.2"
  }
 },
 "nbformat": 4,
 "nbformat_minor": 2
}
